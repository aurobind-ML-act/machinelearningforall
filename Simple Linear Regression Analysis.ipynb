{
 "cells": [
  {
   "cell_type": "code",
   "execution_count": 92,
   "metadata": {},
   "outputs": [],
   "source": [
    "\"\"\"Data file sourced from the following location:\n",
    "http://college.cengage.com/mathematics/brase/understandable_statistics/8e/students/datasets/slr/slr01.html\n",
    "\n",
    "Data Pairs for Simple Linear Regression\n",
    "List Price Vs. Best Price for a New GMC Pickup \n",
    "\n",
    "In the following data\n",
    "\n",
    "X = List price (in $1000) for a GMC pickup truck\n",
    "Y = Best price (in $1000) for a GMC pickup truck\n",
    "\n",
    "Reference: Consumer’s Digest\"\"\"\n"
   ]
  },
  {
   "cell_type": "code",
   "execution_count": 100,
   "metadata": {},
   "outputs": [],
   "source": [
    "#import libraries\n",
    "import pandas as pd # This library is used to read the data in required formats\n",
    "import matplotlib.pyplot as plt #This library is used to plot the data"
   ]
  },
  {
   "cell_type": "code",
   "execution_count": 101,
   "metadata": {},
   "outputs": [],
   "source": [
    "#Read the dataset from the file as a Pandas dataframe\n",
    "dataset = pd.read_csv('data2.csv')"
   ]
  },
  {
   "cell_type": "code",
   "execution_count": 102,
   "metadata": {},
   "outputs": [
    {
     "data": {
      "text/html": [
       "<div>\n",
       "<style scoped>\n",
       "    .dataframe tbody tr th:only-of-type {\n",
       "        vertical-align: middle;\n",
       "    }\n",
       "\n",
       "    .dataframe tbody tr th {\n",
       "        vertical-align: top;\n",
       "    }\n",
       "\n",
       "    .dataframe thead th {\n",
       "        text-align: right;\n",
       "    }\n",
       "</style>\n",
       "<table border=\"1\" class=\"dataframe\">\n",
       "  <thead>\n",
       "    <tr style=\"text-align: right;\">\n",
       "      <th></th>\n",
       "      <th>X</th>\n",
       "      <th>Y</th>\n",
       "    </tr>\n",
       "  </thead>\n",
       "  <tbody>\n",
       "    <tr>\n",
       "      <th>0</th>\n",
       "      <td>12.400000</td>\n",
       "      <td>11.200000</td>\n",
       "    </tr>\n",
       "    <tr>\n",
       "      <th>1</th>\n",
       "      <td>14.300000</td>\n",
       "      <td>12.500000</td>\n",
       "    </tr>\n",
       "    <tr>\n",
       "      <th>2</th>\n",
       "      <td>14.500000</td>\n",
       "      <td>12.700000</td>\n",
       "    </tr>\n",
       "    <tr>\n",
       "      <th>3</th>\n",
       "      <td>14.900000</td>\n",
       "      <td>13.100000</td>\n",
       "    </tr>\n",
       "    <tr>\n",
       "      <th>4</th>\n",
       "      <td>16.100000</td>\n",
       "      <td>14.100000</td>\n",
       "    </tr>\n",
       "    <tr>\n",
       "      <th>5</th>\n",
       "      <td>16.900000</td>\n",
       "      <td>14.800000</td>\n",
       "    </tr>\n",
       "    <tr>\n",
       "      <th>6</th>\n",
       "      <td>16.500000</td>\n",
       "      <td>14.400000</td>\n",
       "    </tr>\n",
       "    <tr>\n",
       "      <th>7</th>\n",
       "      <td>15.400000</td>\n",
       "      <td>13.400000</td>\n",
       "    </tr>\n",
       "    <tr>\n",
       "      <th>8</th>\n",
       "      <td>17.000000</td>\n",
       "      <td>14.900000</td>\n",
       "    </tr>\n",
       "    <tr>\n",
       "      <th>9</th>\n",
       "      <td>17.900000</td>\n",
       "      <td>15.600000</td>\n",
       "    </tr>\n",
       "    <tr>\n",
       "      <th>10</th>\n",
       "      <td>18.799999</td>\n",
       "      <td>16.400000</td>\n",
       "    </tr>\n",
       "    <tr>\n",
       "      <th>11</th>\n",
       "      <td>20.299999</td>\n",
       "      <td>17.700001</td>\n",
       "    </tr>\n",
       "    <tr>\n",
       "      <th>12</th>\n",
       "      <td>22.400000</td>\n",
       "      <td>19.600000</td>\n",
       "    </tr>\n",
       "    <tr>\n",
       "      <th>13</th>\n",
       "      <td>19.400000</td>\n",
       "      <td>16.900000</td>\n",
       "    </tr>\n",
       "    <tr>\n",
       "      <th>14</th>\n",
       "      <td>15.500000</td>\n",
       "      <td>14.000000</td>\n",
       "    </tr>\n",
       "    <tr>\n",
       "      <th>15</th>\n",
       "      <td>16.700001</td>\n",
       "      <td>14.600000</td>\n",
       "    </tr>\n",
       "    <tr>\n",
       "      <th>16</th>\n",
       "      <td>17.299999</td>\n",
       "      <td>15.100000</td>\n",
       "    </tr>\n",
       "    <tr>\n",
       "      <th>17</th>\n",
       "      <td>18.400000</td>\n",
       "      <td>16.100000</td>\n",
       "    </tr>\n",
       "    <tr>\n",
       "      <th>18</th>\n",
       "      <td>19.200001</td>\n",
       "      <td>16.799999</td>\n",
       "    </tr>\n",
       "    <tr>\n",
       "      <th>19</th>\n",
       "      <td>17.400000</td>\n",
       "      <td>15.200000</td>\n",
       "    </tr>\n",
       "    <tr>\n",
       "      <th>20</th>\n",
       "      <td>19.500000</td>\n",
       "      <td>17.000000</td>\n",
       "    </tr>\n",
       "    <tr>\n",
       "      <th>21</th>\n",
       "      <td>19.700001</td>\n",
       "      <td>17.200001</td>\n",
       "    </tr>\n",
       "    <tr>\n",
       "      <th>22</th>\n",
       "      <td>21.200001</td>\n",
       "      <td>18.600000</td>\n",
       "    </tr>\n",
       "  </tbody>\n",
       "</table>\n",
       "</div>"
      ],
      "text/plain": [
       "            X          Y\n",
       "0   12.400000  11.200000\n",
       "1   14.300000  12.500000\n",
       "2   14.500000  12.700000\n",
       "3   14.900000  13.100000\n",
       "4   16.100000  14.100000\n",
       "5   16.900000  14.800000\n",
       "6   16.500000  14.400000\n",
       "7   15.400000  13.400000\n",
       "8   17.000000  14.900000\n",
       "9   17.900000  15.600000\n",
       "10  18.799999  16.400000\n",
       "11  20.299999  17.700001\n",
       "12  22.400000  19.600000\n",
       "13  19.400000  16.900000\n",
       "14  15.500000  14.000000\n",
       "15  16.700001  14.600000\n",
       "16  17.299999  15.100000\n",
       "17  18.400000  16.100000\n",
       "18  19.200001  16.799999\n",
       "19  17.400000  15.200000\n",
       "20  19.500000  17.000000\n",
       "21  19.700001  17.200001\n",
       "22  21.200001  18.600000"
      ]
     },
     "execution_count": 102,
     "metadata": {},
     "output_type": "execute_result"
    }
   ],
   "source": [
    "dataset # Checking if the data is loaded properly"
   ]
  },
  {
   "cell_type": "code",
   "execution_count": 103,
   "metadata": {},
   "outputs": [],
   "source": [
    "# Separate the dataset into X and Y numpy arrays\n",
    "X = dataset.iloc[:,:-1].values \n",
    "Y = dataset.iloc[:,1:].values"
   ]
  },
  {
   "cell_type": "code",
   "execution_count": 104,
   "metadata": {},
   "outputs": [
    {
     "data": {
      "text/plain": [
       "array([[12.39999962],\n",
       "       [14.30000019],\n",
       "       [14.5       ],\n",
       "       [14.89999962],\n",
       "       [16.10000038],\n",
       "       [16.89999962],\n",
       "       [16.5       ],\n",
       "       [15.39999962],\n",
       "       [17.        ],\n",
       "       [17.89999962],\n",
       "       [18.79999924],\n",
       "       [20.29999924],\n",
       "       [22.39999962],\n",
       "       [19.39999962],\n",
       "       [15.5       ],\n",
       "       [16.70000076],\n",
       "       [17.29999924],\n",
       "       [18.39999962],\n",
       "       [19.20000076],\n",
       "       [17.39999962],\n",
       "       [19.5       ],\n",
       "       [19.70000076],\n",
       "       [21.20000076]])"
      ]
     },
     "execution_count": 104,
     "metadata": {},
     "output_type": "execute_result"
    }
   ],
   "source": [
    "X # Check the X values"
   ]
  },
  {
   "cell_type": "code",
   "execution_count": 105,
   "metadata": {},
   "outputs": [
    {
     "data": {
      "text/plain": [
       "array([[11.19999981],\n",
       "       [12.5       ],\n",
       "       [12.69999981],\n",
       "       [13.10000038],\n",
       "       [14.10000038],\n",
       "       [14.80000019],\n",
       "       [14.39999962],\n",
       "       [13.39999962],\n",
       "       [14.89999962],\n",
       "       [15.60000038],\n",
       "       [16.39999962],\n",
       "       [17.70000076],\n",
       "       [19.60000038],\n",
       "       [16.89999962],\n",
       "       [14.        ],\n",
       "       [14.60000038],\n",
       "       [15.10000038],\n",
       "       [16.10000038],\n",
       "       [16.79999924],\n",
       "       [15.19999981],\n",
       "       [17.        ],\n",
       "       [17.20000076],\n",
       "       [18.60000038]])"
      ]
     },
     "execution_count": 105,
     "metadata": {},
     "output_type": "execute_result"
    }
   ],
   "source": [
    "Y # Check the Y values"
   ]
  },
  {
   "cell_type": "code",
   "execution_count": 106,
   "metadata": {},
   "outputs": [],
   "source": [
    " #split the dataset into training and test sets\n",
    "from sklearn.model_selection import train_test_split\n",
    "# train_test_split function takes the X and Y data and \n",
    "# divides the data into training and testing parts based on the test_size specified\n",
    "X_train, X_test, Y_train, Y_test = train_test_split(X,Y,test_size=1/4, random_state=0)"
   ]
  },
  {
   "cell_type": "code",
   "execution_count": 108,
   "metadata": {},
   "outputs": [
    {
     "data": {
      "text/plain": [
       "array([[19.39999962],\n",
       "       [21.20000076],\n",
       "       [17.29999924],\n",
       "       [17.        ],\n",
       "       [16.5       ],\n",
       "       [18.39999962],\n",
       "       [16.10000038],\n",
       "       [14.5       ],\n",
       "       [16.89999962],\n",
       "       [19.20000076],\n",
       "       [17.89999962],\n",
       "       [15.39999962],\n",
       "       [17.39999962],\n",
       "       [14.89999962],\n",
       "       [12.39999962],\n",
       "       [16.70000076],\n",
       "       [22.39999962]])"
      ]
     },
     "execution_count": 108,
     "metadata": {},
     "output_type": "execute_result"
    }
   ],
   "source": [
    "#Check the Training and testing Data\n",
    "X_train"
   ]
  },
  {
   "cell_type": "code",
   "execution_count": 109,
   "metadata": {},
   "outputs": [
    {
     "data": {
      "text/plain": [
       "array([[16.89999962],\n",
       "       [18.60000038],\n",
       "       [15.10000038],\n",
       "       [14.89999962],\n",
       "       [14.39999962],\n",
       "       [16.10000038],\n",
       "       [14.10000038],\n",
       "       [12.69999981],\n",
       "       [14.80000019],\n",
       "       [16.79999924],\n",
       "       [15.60000038],\n",
       "       [13.39999962],\n",
       "       [15.19999981],\n",
       "       [13.10000038],\n",
       "       [11.19999981],\n",
       "       [14.60000038],\n",
       "       [19.60000038]])"
      ]
     },
     "execution_count": 109,
     "metadata": {},
     "output_type": "execute_result"
    }
   ],
   "source": [
    "Y_train"
   ]
  },
  {
   "cell_type": "code",
   "execution_count": 110,
   "metadata": {},
   "outputs": [
    {
     "data": {
      "text/plain": [
       "array([[20.29999924],\n",
       "       [18.79999924],\n",
       "       [19.70000076],\n",
       "       [15.5       ],\n",
       "       [19.5       ],\n",
       "       [14.30000019]])"
      ]
     },
     "execution_count": 110,
     "metadata": {},
     "output_type": "execute_result"
    }
   ],
   "source": [
    "X_test"
   ]
  },
  {
   "cell_type": "code",
   "execution_count": 111,
   "metadata": {},
   "outputs": [
    {
     "data": {
      "text/plain": [
       "array([[17.70000076],\n",
       "       [16.39999962],\n",
       "       [17.20000076],\n",
       "       [14.        ],\n",
       "       [17.        ],\n",
       "       [12.5       ]])"
      ]
     },
     "execution_count": 111,
     "metadata": {},
     "output_type": "execute_result"
    }
   ],
   "source": [
    "Y_test"
   ]
  },
  {
   "cell_type": "code",
   "execution_count": 112,
   "metadata": {},
   "outputs": [
    {
     "data": {
      "text/plain": [
       "<matplotlib.collections.PathCollection at 0x1a39f811c50>"
      ]
     },
     "execution_count": 112,
     "metadata": {},
     "output_type": "execute_result"
    },
    {
     "data": {
      "image/png": "[encoded data removed]",
      "text/plain": [
       "<Figure size 432x288 with 1 Axes>"
      ]
     },
     "metadata": {
      "needs_background": "light"
     },
     "output_type": "display_data"
    }
   ],
   "source": [
    "# Plot the chart to view how the data looks and if it follows some pattern visually\n",
    "plt.scatter(X,Y)\n",
    "# The following chart shows pretty linear behavior"
   ]
  },
  {
   "cell_type": "code",
   "execution_count": 113,
   "metadata": {},
   "outputs": [
    {
     "data": {
      "text/plain": [
       "LinearRegression(copy_X=True, fit_intercept=True, n_jobs=None,\n",
       "         normalize=False)"
      ]
     },
     "execution_count": 113,
     "metadata": {},
     "output_type": "execute_result"
    }
   ],
   "source": [
    "#Use a linear regression Model\n",
    "from sklearn.linear_model import LinearRegression # import the linear regression model from sci-kit learn library\n",
    "linModel = LinearRegression()  # get an instance of the linear regression model\n",
    "linModel.fit(X_train,Y_train) #fit the training data using the linear regression model"
   ]
  },
  {
   "cell_type": "code",
   "execution_count": 114,
   "metadata": {},
   "outputs": [],
   "source": [
    "yhat = linModel.predict(X_test) #Predict the y values for the test data based on the model derived from fitting training data"
   ]
  },
  {
   "cell_type": "code",
   "execution_count": 115,
   "metadata": {},
   "outputs": [
    {
     "data": {
      "text/plain": [
       "array([[17.71847959],\n",
       "       [16.43360107],\n",
       "       [17.20452948],\n",
       "       [13.60686899],\n",
       "       [17.0332117 ],\n",
       "       [12.57896634]])"
      ]
     },
     "execution_count": 115,
     "metadata": {},
     "output_type": "execute_result"
    }
   ],
   "source": [
    "yhat #Check what y values for given X test values is predicted"
   ]
  },
  {
   "cell_type": "code",
   "execution_count": 116,
   "metadata": {},
   "outputs": [
    {
     "data": {
      "text/plain": [
       "array([[17.70000076],\n",
       "       [16.39999962],\n",
       "       [17.20000076],\n",
       "       [14.        ],\n",
       "       [17.        ],\n",
       "       [12.5       ]])"
      ]
     },
     "execution_count": 116,
     "metadata": {},
     "output_type": "execute_result"
    }
   ],
   "source": [
    "Y_test #Compare against the actual test data for y\n",
    "# Comparing the Y_test data to predicted y, we can see that it was pretty good prediction"
   ]
  },
  {
   "cell_type": "code",
   "execution_count": 119,
   "metadata": {},
   "outputs": [
    {
     "data": {
      "text/plain": [
       "array([[11.46540479]])"
      ]
     },
     "execution_count": 119,
     "metadata": {},
     "output_type": "execute_result"
    }
   ],
   "source": [
    "# Predict for X value that is outside of training or test dataset to check how the prediction behaves with new values\n",
    "import numpy as np\n",
    "linModel.predict(np.array(13).reshape(1,-1))"
   ]
  }
 ],
 "metadata": {
  "kernelspec": {
   "display_name": "Python 3",
   "language": "python",
   "name": "python3"
  },
  "language_info": {
   "codemirror_mode": {
    "name": "ipython",
    "version": 3
   },
   "file_extension": ".py",
   "mimetype": "text/x-python",
   "name": "python",
   "nbconvert_exporter": "python",
   "pygments_lexer": "ipython3",
   "version": "3.6.7"
  }
 },
 "nbformat": 4,
 "nbformat_minor": 2
}
